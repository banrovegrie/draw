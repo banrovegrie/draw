{
 "cells": [
  {
   "cell_type": "code",
   "execution_count": 11,
   "metadata": {},
   "outputs": [],
   "source": [
    "import cv2 as cv\n",
    "import numpy as np\n",
    "import random\n",
    "from edges import Edges\n",
    "from background import Background\n",
    "from PIL import Image, ImageOps\n",
    "\n",
    "filename = \"test.jpg\"\n",
    "\n",
    "class Sketch:\n",
    "    def __init__(self, image):\n",
    "        self.img = cv.imread(image)\n",
    "\n",
    "    def sketch(self):\n",
    "        grey = cv.cvtColor(self.img, cv.COLOR_BGR2GRAY)\n",
    "        inv = 255 - grey\n",
    "        blur = cv.GaussianBlur(inv, (13,13), 0)\n",
    "        return cv.divide(grey, 255-blur, scale=256)\n",
    "\n",
    "img = Image.open(filename)\n",
    "\n",
    "sketch = Sketch(filename).sketch()\n",
    "cv.imwrite(\"sketch.png\", sketch)\n",
    "bg = Background(img.size, octaves=6).background()\n",
    "edges = Edges(filename).edges()\n",
    "#sketchTrans = cv.cvtColor(sketch, cv.COLOR_GRAY2RGBA)\n",
    "\n",
    "mask = edges[3]\n",
    "sketch = cv.bitwise_and(sketch, edges, edges)\n",
    "(thresh, sketch) = cv.threshold(sketch, 240, 255, cv.THRESH_BINARY)\n",
    "#sketch = cv.multiply(sketch, np.array(bg), scale=(1./128))\n",
    "\n",
    "\n",
    "h, w = sketch.shape[:2]\n",
    "mask = np.zeros((h+2, w+2), np.uint8)\n",
    "#mask[1:h+1, 1:w+1] = sketch\n",
    "sketchColor = cv.cvtColor(sketch, cv.COLOR_GRAY2RGBA)\n",
    "white = np.all(sketchColor == [244,255,255,255], axis=-1)\n",
    "sketchColor[white, -1] = 0\n",
    "cv.imwrite(\"final.png\", sketchColor)\n",
    "final = Image.fromarray(sketchColor)\n",
    "final.show()"
   ]
  },
  {
   "cell_type": "code",
   "execution_count": null,
   "metadata": {},
   "outputs": [],
   "source": []
  }
 ],
 "metadata": {
  "kernelspec": {
   "display_name": "Python 3",
   "language": "python",
   "name": "python3"
  },
  "language_info": {
   "codemirror_mode": {
    "name": "ipython",
    "version": 3
   },
   "file_extension": ".py",
   "mimetype": "text/x-python",
   "name": "python",
   "nbconvert_exporter": "python",
   "pygments_lexer": "ipython3",
   "version": "3.8.1"
  }
 },
 "nbformat": 4,
 "nbformat_minor": 4
}
